{
 "cells": [
  {
   "cell_type": "markdown",
   "metadata": {},
   "source": [
    "# Breakpoint\n",
    "\n",
    "Breakpoints are customizable widths that determine how your responsive layout behaves across device or viewport sizes in Bootstrap.\n",
    "\n",
    "## Core concepts \n",
    "Breakpoints are the building blocks of responsive design. Use them to control when your layout can be adapted at a particular viewport or device size.\n",
    "\n",
    "Use media queries to architect your CSS by breakpoint. Media queries are a feature of CSS that allow you to conditionally apply styles based on a set of browser and operating system parameters. We most commonly use min-width in our media queries.\n",
    "\n",
    "Mobile first, responsive design is the goal. Bootstrap’s CSS aims to apply the bare minimum of styles to make a layout work at the smallest breakpoint, and then layers on styles to adjust that design for larger devices. This optimizes your CSS, improves rendering time, and provides a great experience for your visitors.\n",
    "\n",
    "\n",
    "| Breakpoint      | Class infix     | Dimensions    |\n",
    "|-----------------|-----------------|---------------|\n",
    "| Extra small     |\tNone            | <576px        |\n",
    "| Small           |\tsm              | ≥576px        |\n",
    "| Medium          | md              | ≥768px        |\n",
    "| Large           |\tlg              | ≥992px        |\n",
    "| Extra large     |\txl              | ≥1200px       |\n",
    "| Extra Xtra Large|\txxl             | ≥1400px       |\n",
    "\n",
    "\n",
    "<!-- Boostrap Markdown File -->\n",
    "<link href=\"https://maxcdn.bootstrapcdn.com/bootstrap/3.3.6/css/bootstrap.min.css\" rel=\"stylesheet\" />\n",
    "<script src=\"https://maxcdn.bootstrapcdn.com/bootstrap/3.3.6/js/bootstrap.min.js\"></script>"
   ]
  }
 ],
 "metadata": {
  "language_info": {
   "name": "python"
  }
 },
 "nbformat": 4,
 "nbformat_minor": 2
}
