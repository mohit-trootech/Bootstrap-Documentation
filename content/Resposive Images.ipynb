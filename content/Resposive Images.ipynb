{
 "cells": [
  {
   "attachments": {
    "image-2.png": {
     "image/png": "[encoded data removed]"
    },
    "image.png": {
     "image/png": "[encoded data removed]"
    }
   },
   "cell_type": "markdown",
   "metadata": {},
   "source": [
    "# Responsive images\n",
    "\n",
    "Images in Bootstrap are made responsive with .img-fluid. This applies max-width: 100%; and height: auto; to the image so that it scales with the parent width.\n",
    "\n",
    "        <img src=\"../static/c3.gif\" class=\"img-fluid\" alt=\"...\">\n",
    "\n",
    "<img src=\"../static/c3.gif\" class=\"img-fluid\" alt=\"...\">\n",
    "\n",
    "## Image Thumbnail\n",
    "\n",
    "    <img src=\"../static/c3.gif\" class=\"img-thumbnail\" alt=\"...\">\n",
    "\n",
    "<img src=\"../static/c3.gif\" class=\"img-thumbnail w-25\" alt=\"...\" >\n",
    "\n",
    "\n",
    "## Alignment\n",
    "\n",
    "    <img src=\"...\" class=\"rounded float-start\" alt=\"...\">\n",
    "    <img src=\"...\" class=\"rounded float-end\" alt=\"...\">\n",
    "    <img src=\"...\" class=\"rounded mx-auto d-block\" alt=\"...\">\n",
    "\n",
    "![image.png](attachment:image.png)\n",
    "![image-2.png](attachment:image-2.png)\n",
    "\n",
    "## Figure\n",
    "\n",
    "Images with Captions\n",
    "\n",
    "    <figure class=\"figure\">\n",
    "    <img src=\"...\" class=\"figure-img img-fluid rounded\" alt=\"...\">\n",
    "    <figcaption class=\"figure-caption\">A caption for the above image.</figcaption>\n",
    "    </figure>\n",
    "<figure class=\"figure\">\n",
    "  <img src=\"../static/c3.gif\" class=\"figure-img img-fluid rounded\" alt=\"...\">\n",
    "  <figcaption class=\"figure-caption\">A caption for the above image.</figcaption>\n",
    "</figure>\n",
    "\n",
    "#### Center Align\n",
    "\n",
    "    <figure class=\"figure\">\n",
    "    <img src=\"...\" class=\"figure-img img-fluid rounded\" alt=\"...\">\n",
    "    <figcaption class=\"figure-caption text-center\">A caption for the above image.</figcaption>\n",
    "    </figure>\n",
    "<figure class=\"figure\">\n",
    "  <img src=\"../static/c3.gif\" class=\"figure-img img-fluid rounded\" alt=\"...\">\n",
    "  <figcaption class=\"figure-caption text-center\">A caption for the above image.</figcaption>\n",
    "</figure>\n",
    "\n",
    "\n",
    "\n",
    "\n",
    "\n",
    "\n",
    "\n",
    "\n",
    "\n",
    "\n",
    "<!-- Boostrap Markdown File -->\n",
    "<link href=\"https://maxcdn.bootstrapcdn.com/bootstrap/3.3.6/css/bootstrap.min.css\" rel=\"stylesheet\" />\n",
    "<script src=\"https://maxcdn.bootstrapcdn.com/bootstrap/3.3.6/js/bootstrap.min.js\"></script>"
   ]
  }
 ],
 "metadata": {
  "language_info": {
   "name": "python"
  }
 },
 "nbformat": 4,
 "nbformat_minor": 2
}
