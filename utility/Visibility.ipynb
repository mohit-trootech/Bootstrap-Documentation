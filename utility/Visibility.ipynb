{
 "cells": [
  {
   "cell_type": "markdown",
   "metadata": {},
   "source": [
    "# Visibility\n",
    "\n",
    "    <div class=\"visible\">...</div>\n",
    "    <div class=\"invisible\">...</div>\n",
    "\n",
    "<div class=\"visible\">...</div>\n",
    "<div class=\"invisible\">...</div>\n",
    "    .visible {\n",
    "    visibility: visible !important;\n",
    "    }\n",
    "    .invisible {\n",
    "    visibility: hidden !important;\n",
    "    }\n",
    "\n",
    "<!-- Boostrap Markdown File -->\n",
    "<link href=\"https://maxcdn.bootstrapcdn.com/bootstrap/3.3.6/css/bootstrap.min.css\" rel=\"stylesheet\" />\n",
    "<script src=\"https://maxcdn.bootstrapcdn.com/bootstrap/3.3.6/js/bootstrap.min.js\"></script>"
   ]
  }
 ],
 "metadata": {
  "language_info": {
   "name": "python"
  }
 },
 "nbformat": 4,
 "nbformat_minor": 2
}
