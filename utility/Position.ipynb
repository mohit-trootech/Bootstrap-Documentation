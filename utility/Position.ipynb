{
 "cells": [
  {
   "attachments": {
    "image.png": {
     "image/png": "[encoded data removed]"
    }
   },
   "cell_type": "markdown",
   "metadata": {},
   "source": [
    "# Position\n",
    "\n",
    "Use these shorthand utilities for quickly configuring the position of an element.\n",
    "\n",
    "![image.png](attachment:image.png)\n",
    "\n",
    "    <div class=\"position-static\">...</div>\n",
    "    <div class=\"position-relative\">...</div>\n",
    "    <div class=\"position-absolute\">...</div>\n",
    "    <div class=\"position-fixed\">...</div>\n",
    "    <div class=\"position-sticky\">...</div>\n",
    "\n",
    "\n",
    "<!-- Boostrap Markdown File -->\n",
    "<link href=\"https://maxcdn.bootstrapcdn.com/bootstrap/3.3.6/css/bootstrap.min.css\" rel=\"stylesheet\" />\n",
    "<script src=\"https://maxcdn.bootstrapcdn.com/bootstrap/3.3.6/js/bootstrap.min.js\"></script>"
   ]
  }
 ],
 "metadata": {
  "language_info": {
   "name": "python"
  }
 },
 "nbformat": 4,
 "nbformat_minor": 2
}
