{
 "cells": [
  {
   "cell_type": "markdown",
   "metadata": {},
   "source": [
    "# Shadow\n",
    "\n",
    "Add or remove shadows to elements with box-shadow utilities.\n",
    "\n",
    "    <div class=\"shadow-none p-3 mb-5 bg-primary rounded\">No shadow</div>\n",
    "    <div class=\"shadow-sm p-3 mb-5 bg-primary rounded\">Small shadow</div>\n",
    "    <div class=\"shadow p-3 mb-5 bg-primary rounded\">Regular shadow</div>\n",
    "    <div class=\"shadow-lg p-3 mb-5 bg-primary rounded\">Larger shadow</div>\n",
    "\n",
    "\n",
    "\n",
    "<!-- Boostrap Markdown File -->\n",
    "<link href=\"https://maxcdn.bootstrapcdn.com/bootstrap/3.3.6/css/bootstrap.css\" rel=\"stylesheet\" />\n",
    "<script src=\"https://maxcdn.bootstrapcdn.com/bootstrap/3.3.6/js/bootstrap.min.js\"></script>"
   ]
  }
 ],
 "metadata": {
  "language_info": {
   "name": "python"
  }
 },
 "nbformat": 4,
 "nbformat_minor": 2
}
