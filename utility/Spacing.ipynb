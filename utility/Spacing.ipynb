{
 "cells": [
  {
   "attachments": {
    "image.png": {
     "image/png": "[encoded data removed]"
    }
   },
   "cell_type": "markdown",
   "metadata": {},
   "source": [
    "# Spacing\n",
    "\n",
    "Bootstrap includes a wide range of shorthand responsive margin, padding, and gap utility classes to modify an element’s appearance.\n",
    "\n",
    "The classes are named using the format {property}{sides}-{size} for xs and {property}{sides}-{breakpoint}-{size} for sm, md, lg, xl, and xxl.\n",
    "\n",
    "Where property is one of:\n",
    "\n",
    "    m - for classes that set margin\n",
    "    p - for classes that set padding\n",
    "Where sides is one of:\n",
    "\n",
    "    t - for classes that set margin-top or padding-top\n",
    "    b - for classes that set margin-bottom or padding-bottom\n",
    "    s - (start) for classes that set margin-left or padding-left in LTR, margin-right or padding-right in RTL\n",
    "    e - (end) for classes that set margin-right or padding-right in LTR, margin-left or padding-left in RTL\n",
    "    x - for classes that set both *-left and *-right\n",
    "    y - for classes that set both *-top and *-bottom\n",
    "blank - for classes that set a margin or padding on all 4 sides of the element\n",
    "Where size is one of:\n",
    "\n",
    "    0 - for classes that eliminate the margin or padding by setting it to 0\n",
    "    1 - (by default) for classes that set the margin or padding to $spacer * .25\n",
    "    2 - (by default) for classes that set the margin or padding to $spacer * .5\n",
    "    3 - (by default) for classes that set the margin or padding to $spacer\n",
    "    4 - (by default) for classes that set the margin or padding to $spacer * 1.5\n",
    "    5 - (by default) for classes that set the margin or padding to $spacer * 3\n",
    "auto - for classes that set the margin to auto\n",
    "\n",
    "![image.png](attachment:image.png)\n",
    "\n",
    "    <div class=\"mx-auto p-2\" style=\"width: 200px;\">\n",
    "    Centered element\n",
    "    </div>\n",
    "\n",
    "\n",
    "<!-- Boostrap Markdown File -->\n",
    "<link href=\"https://maxcdn.bootstrapcdn.com/bootstrap/3.3.6/css/bootstrap.min.css\" rel=\"stylesheet\" />\n",
    "<script src=\"https://maxcdn.bootstrapcdn.com/bootstrap/3.3.6/js/bootstrap.min.js\"></script>"
   ]
  }
 ],
 "metadata": {
  "language_info": {
   "name": "python"
  }
 },
 "nbformat": 4,
 "nbformat_minor": 2
}
