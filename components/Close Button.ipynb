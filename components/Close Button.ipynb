{
 "cells": [
  {
   "cell_type": "markdown",
   "metadata": {},
   "source": [
    "# Close Button\n",
    "\n",
    "Provide an option to dismiss or close a component with `.btn-close`. Default styling is limited, but highly customizable. Modify the Sass variables to replace the default background-image. Be sure to include text for screen readers, as we’ve done with aria-label.\n",
    "\n",
    "    <button type=\"button\" class=\"btn-close\" aria-label=\"Close\"></button>\n",
    "\n",
    "# Dark Variant\n",
    "\n",
    "    <div data-bs-theme=\"dark\">\n",
    "    <button type=\"button\" class=\"btn-close\" aria-label=\"Close\"></button>\n",
    "    <button type=\"button\" class=\"btn-close\" disabled aria-label=\"Close\"></button>\n",
    "    </div>\n",
    "\n",
    "\n",
    "\n",
    "\n",
    "\n",
    "\n",
    "\n",
    "\n",
    "\n",
    "\n",
    "\n",
    "\n",
    "\n",
    "\n",
    "\n",
    "\n",
    "\n",
    "\n",
    "\n",
    "\n",
    "\n",
    "\n",
    "\n",
    "\n",
    "\n",
    "<!-- Boostrap Markdown File -->\n",
    "<link href=\"https://maxcdn.bootstrapcdn.com/bootstrap/3.3.6/css/bootstrap.min.css\" rel=\"stylesheet\" />\n",
    "<script src=\"https://maxcdn.bootstrapcdn.com/bootstrap/3.3.6/js/bootstrap.min.js\"></script>"
   ]
  }
 ],
 "metadata": {
  "language_info": {
   "name": "python"
  }
 },
 "nbformat": 4,
 "nbformat_minor": 2
}
