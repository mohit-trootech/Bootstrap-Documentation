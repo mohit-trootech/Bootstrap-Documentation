{
 "cells": [
  {
   "attachments": {
    "image.png": {
     "image/png": "[encoded data removed]"
    }
   },
   "cell_type": "markdown",
   "metadata": {},
   "source": [
    "# Toast\n",
    "\n",
    "    Toasts are opt-in for performance reasons, so you must initialize them yourself.\n",
    "\n",
    "    Toasts will automatically hide if you do not specify autohide: false.\n",
    "\n",
    "\n",
    "    <div class=\"toast\" role=\"alert\" aria-live=\"assertive\" aria-atomic=\"true\">\n",
    "    <div class=\"toast-header\">\n",
    "        <img src=\"...\" class=\"rounded me-2\" alt=\"...\">\n",
    "        <strong class=\"me-auto\">Bootstrap</strong>\n",
    "        <small>11 mins ago</small>\n",
    "        <button type=\"button\" class=\"btn-close\" data-bs-dismiss=\"toast\" aria-label=\"Close\"></button>\n",
    "    </div>\n",
    "    <div class=\"toast-body\">\n",
    "        Hello, world! This is a toast message.\n",
    "    </div>\n",
    "    </div>\n",
    "\n",
    "![image.png](attachment:image.png)\n",
    "\n",
    "## Toast with Button\n",
    "\n",
    "<button type=\"button\" class=\"btn btn-primary\" id=\"liveToastBtn\">Show live toast</button>\n",
    "\n",
    "    <div class=\"toast-container position-fixed bottom-0 end-0 p-3\">\n",
    "    <div id=\"liveToast\" class=\"toast\" role=\"alert\" aria-live=\"assertive\" aria-atomic=\"true\">\n",
    "        <div class=\"toast-header\">\n",
    "        <img src=\"...\" class=\"rounded me-2\" alt=\"...\">\n",
    "        <strong class=\"me-auto\">Bootstrap</strong>\n",
    "        <small>11 mins ago</small>\n",
    "        <button type=\"button\" class=\"btn-close\" data-bs-dismiss=\"toast\" aria-label=\"Close\"></button>\n",
    "        </div>\n",
    "        <div class=\"toast-body\">\n",
    "        Hello, world! This is a toast message.\n",
    "        </div>\n",
    "    </div>\n",
    "    </div>\n",
    "\n",
    "\n",
    "\n",
    "\n",
    "\n",
    "\n",
    "\n",
    "\n",
    "\n",
    "\n",
    "\n",
    "\n",
    "\n",
    "\n",
    "\n",
    "\n",
    "\n",
    "\n",
    "<!-- Boostrap Markdown File -->\n",
    "<link href=\"https://maxcdn.bootstrapcdn.com/bootstrap/3.3.6/css/bootstrap.min.css\" rel=\"stylesheet\" />\n",
    "<script src=\"https://maxcdn.bootstrapcdn.com/bootstrap/3.3.6/js/bootstrap.min.js\"></script>"
   ]
  }
 ],
 "metadata": {
  "language_info": {
   "name": "python"
  }
 },
 "nbformat": 4,
 "nbformat_minor": 2
}
