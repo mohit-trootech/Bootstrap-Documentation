{
 "cells": [
  {
   "attachments": {
    "image-2.png": {
     "image/png": "[encoded data removed]"
    },
    "image.png": {
     "image/png": "[encoded data removed]"
    }
   },
   "cell_type": "markdown",
   "metadata": {},
   "source": [
    "# Progress\n",
    "\n",
    "We use the `.progress` as a wrapper to indicate the max value of the progress bar.\n",
    "\n",
    "    <div class=\"progress\" role=\"progressbar\" aria-label=\"Basic example\" aria-valuenow=\"0\" aria-valuemin=\"0\" aria-valuemax=\"100\">\n",
    "    <div class=\"progress-bar\" style=\"width: 0%\"></div>\n",
    "    </div>\n",
    "    <div class=\"progress\" role=\"progressbar\" aria-label=\"Basic example\" aria-valuenow=\"25\" aria-valuemin=\"0\" aria-valuemax=\"100\">\n",
    "    <div class=\"progress-bar\" style=\"width: 25%\"></div>\n",
    "    </div>\n",
    "    <div class=\"progress\" role=\"progressbar\" aria-label=\"Basic example\" aria-valuenow=\"50\" aria-valuemin=\"0\" aria-valuemax=\"100\">\n",
    "    <div class=\"progress-bar\" style=\"width: 50%\"></div>\n",
    "    </div>\n",
    "    <div class=\"progress\" role=\"progressbar\" aria-label=\"Basic example\" aria-valuenow=\"75\" aria-valuemin=\"0\" aria-valuemax=\"100\">\n",
    "    <div class=\"progress-bar\" style=\"width: 75%\"></div>\n",
    "    </div>\n",
    "    <div class=\"progress\" role=\"progressbar\" aria-label=\"Basic example\" aria-valuenow=\"100\" aria-valuemin=\"0\" aria-valuemax=\"100\">\n",
    "    <div class=\"progress-bar\" style=\"width: 100%\"></div>\n",
    "    </div>\n",
    "![image.png](attachment:image.png)\n",
    "\n",
    "\n",
    "## Bar Width\n",
    "\n",
    "    <div class=\"progress\" role=\"progressbar\" aria-label=\"Basic example\" aria-valuenow=\"75\" aria-valuemin=\"0\" aria-valuemax=\"100\">\n",
    "    <div class=\"progress-bar w-75\"></div>\n",
    "    </div>\n",
    "\n",
    "## Bar Height\n",
    "\n",
    "<div class=\"progress\" role=\"progressbar\" aria-label=\"Example 1px high\" aria-valuenow=\"25\" aria-valuemin=\"0\" aria-valuemax=\"100\" style=\"height: 1px\">\n",
    "  <div class=\"progress-bar\" style=\"width: 25%\"></div>\n",
    "</div>\n",
    "<div class=\"progress\" role=\"progressbar\" aria-label=\"Example 20px high\" aria-valuenow=\"25\" aria-valuemin=\"0\" aria-valuemax=\"100\" style=\"height: 20px\">\n",
    "  <div class=\"progress-bar\" style=\"width: 25%\"></div>\n",
    "</div>\n",
    "\n",
    "## Background\n",
    "\n",
    "    <div class=\"progress\" role=\"progressbar\" aria-label=\"Success example\" aria-valuenow=\"25\" aria-valuemin=\"0\" aria-valuemax=\"100\">\n",
    "    <div class=\"progress-bar bg-success\" style=\"width: 25%\"></div>\n",
    "    </div>\n",
    "    <div class=\"progress\" role=\"progressbar\" aria-label=\"Info example\" aria-valuenow=\"50\" aria-valuemin=\"0\" aria-valuemax=\"100\">\n",
    "    <div class=\"progress-bar bg-info\" style=\"width: 50%\"></div>\n",
    "    </div>\n",
    "    <div class=\"progress\" role=\"progressbar\" aria-label=\"Warning example\" aria-valuenow=\"75\" aria-valuemin=\"0\" aria-valuemax=\"100\">\n",
    "    <div class=\"progress-bar bg-warning\" style=\"width: 75%\"></div>\n",
    "    </div>\n",
    "    <div class=\"progress\" role=\"progressbar\" aria-label=\"Danger example\" aria-valuenow=\"100\" aria-valuemin=\"0\" aria-valuemax=\"100\">\n",
    "    <div class=\"progress-bar bg-danger\" style=\"width: 100%\"></div>\n",
    "    </div>\n",
    "![image-2.png](attachment:image-2.png)\n",
    "\n",
    "# Example\n",
    "\n",
    "Stackblitz Progress Examples - [link](https://stackblitz.com/edit/stackblitz-starters-cmxvnq?file=index.html)\n",
    "\n",
    "\n",
    "\n",
    "\n",
    "\n",
    "\n",
    "\n",
    "\n",
    "\n",
    "\n",
    "\n",
    "\n",
    "<!-- Boostrap Markdown File -->\n",
    "<link href=\"https://maxcdn.bootstrapcdn.com/bootstrap/3.3.6/css/bootstrap.min.css\" rel=\"stylesheet\" />\n",
    "<script src=\"https://maxcdn.bootstrapcdn.com/bootstrap/3.3.6/js/bootstrap.min.js\"></script>"
   ]
  }
 ],
 "metadata": {
  "language_info": {
   "name": "python"
  }
 },
 "nbformat": 4,
 "nbformat_minor": 2
}
